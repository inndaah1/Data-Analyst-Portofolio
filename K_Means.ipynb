{
  "cells": [
    {
      "cell_type": "code",
      "execution_count": null,
      "id": "87e6be30",
      "metadata": {
        "id": "87e6be30"
      },
      "outputs": [],
      "source": [
        "import pandas as pd"
      ]
    },
    {
      "cell_type": "code",
      "execution_count": null,
      "id": "75dd8fbe",
      "metadata": {
        "id": "75dd8fbe",
        "outputId": "ce29a116-0cf2-430a-a9ba-565586e61e1c"
      },
      "outputs": [
        {
          "data": {
            "text/html": [
              "<div>\n",
              "<style scoped>\n",
              "    .dataframe tbody tr th:only-of-type {\n",
              "        vertical-align: middle;\n",
              "    }\n",
              "\n",
              "    .dataframe tbody tr th {\n",
              "        vertical-align: top;\n",
              "    }\n",
              "\n",
              "    .dataframe thead th {\n",
              "        text-align: right;\n",
              "    }\n",
              "</style>\n",
              "<table border=\"1\" class=\"dataframe\">\n",
              "  <thead>\n",
              "    <tr style=\"text-align: right;\">\n",
              "      <th></th>\n",
              "      <th>Kabupaten/Kota</th>\n",
              "      <th>UHH</th>\n",
              "      <th>HLS</th>\n",
              "      <th>RRLS</th>\n",
              "      <th>PPKD</th>\n",
              "    </tr>\n",
              "  </thead>\n",
              "  <tbody>\n",
              "    <tr>\n",
              "      <th>0</th>\n",
              "      <td>Simeulue</td>\n",
              "      <td>65.48</td>\n",
              "      <td>14.08</td>\n",
              "      <td>9.73</td>\n",
              "      <td>7371</td>\n",
              "    </tr>\n",
              "    <tr>\n",
              "      <th>1</th>\n",
              "      <td>Aceh Singkil</td>\n",
              "      <td>67.65</td>\n",
              "      <td>14.34</td>\n",
              "      <td>8.69</td>\n",
              "      <td>8994</td>\n",
              "    </tr>\n",
              "    <tr>\n",
              "      <th>2</th>\n",
              "      <td>Aceh Selatan</td>\n",
              "      <td>64.64</td>\n",
              "      <td>14.69</td>\n",
              "      <td>8.89</td>\n",
              "      <td>8353</td>\n",
              "    </tr>\n",
              "    <tr>\n",
              "      <th>3</th>\n",
              "      <td>Aceh Tenggara</td>\n",
              "      <td>68.48</td>\n",
              "      <td>14.26</td>\n",
              "      <td>9.92</td>\n",
              "      <td>8222</td>\n",
              "    </tr>\n",
              "    <tr>\n",
              "      <th>4</th>\n",
              "      <td>Aceh Timur</td>\n",
              "      <td>68.94</td>\n",
              "      <td>13.06</td>\n",
              "      <td>8.32</td>\n",
              "      <td>9127</td>\n",
              "    </tr>\n",
              "  </tbody>\n",
              "</table>\n",
              "</div>"
            ],
            "text/plain": [
              "  Kabupaten/Kota    UHH    HLS  RRLS  PPKD\n",
              "0       Simeulue  65.48  14.08  9.73  7371\n",
              "1   Aceh Singkil  67.65  14.34  8.69  8994\n",
              "2   Aceh Selatan  64.64  14.69  8.89  8353\n",
              "3  Aceh Tenggara  68.48  14.26  9.92  8222\n",
              "4     Aceh Timur  68.94  13.06  8.32  9127"
            ]
          },
          "execution_count": 2,
          "metadata": {},
          "output_type": "execute_result"
        }
      ],
      "source": [
        "dataset = pd.read_excel(\"/Users/indahrahma/Praktikum Data Mining/ipm 2022.xlsx\")\n",
        "dataset.head()"
      ]
    },
    {
      "cell_type": "markdown",
      "id": "d9a5b335",
      "metadata": {
        "id": "d9a5b335"
      },
      "source": [
        "#### Statistik Deskriptif"
      ]
    },
    {
      "cell_type": "code",
      "execution_count": null,
      "id": "cc77c418",
      "metadata": {
        "id": "cc77c418",
        "outputId": "fb91c454-9fd2-4d00-bdbd-30d5e8db3739"
      },
      "outputs": [
        {
          "data": {
            "text/html": [
              "<div>\n",
              "<style scoped>\n",
              "    .dataframe tbody tr th:only-of-type {\n",
              "        vertical-align: middle;\n",
              "    }\n",
              "\n",
              "    .dataframe tbody tr th {\n",
              "        vertical-align: top;\n",
              "    }\n",
              "\n",
              "    .dataframe thead th {\n",
              "        text-align: right;\n",
              "    }\n",
              "</style>\n",
              "<table border=\"1\" class=\"dataframe\">\n",
              "  <thead>\n",
              "    <tr style=\"text-align: right;\">\n",
              "      <th></th>\n",
              "      <th>UHH</th>\n",
              "      <th>HLS</th>\n",
              "      <th>RRLS</th>\n",
              "      <th>PPKD</th>\n",
              "    </tr>\n",
              "  </thead>\n",
              "  <tbody>\n",
              "    <tr>\n",
              "      <th>count</th>\n",
              "      <td>514.000000</td>\n",
              "      <td>514.000000</td>\n",
              "      <td>514.000000</td>\n",
              "      <td>514.000000</td>\n",
              "    </tr>\n",
              "    <tr>\n",
              "      <th>mean</th>\n",
              "      <td>69.929047</td>\n",
              "      <td>13.088385</td>\n",
              "      <td>8.552374</td>\n",
              "      <td>10643.322957</td>\n",
              "    </tr>\n",
              "    <tr>\n",
              "      <th>std</th>\n",
              "      <td>3.408126</td>\n",
              "      <td>1.305754</td>\n",
              "      <td>1.620598</td>\n",
              "      <td>2752.811053</td>\n",
              "    </tr>\n",
              "    <tr>\n",
              "      <th>min</th>\n",
              "      <td>55.700000</td>\n",
              "      <td>4.070000</td>\n",
              "      <td>1.580000</td>\n",
              "      <td>4190.000000</td>\n",
              "    </tr>\n",
              "    <tr>\n",
              "      <th>25%</th>\n",
              "      <td>67.732500</td>\n",
              "      <td>12.500000</td>\n",
              "      <td>7.640000</td>\n",
              "      <td>8874.250000</td>\n",
              "    </tr>\n",
              "    <tr>\n",
              "      <th>50%</th>\n",
              "      <td>70.225000</td>\n",
              "      <td>13.005000</td>\n",
              "      <td>8.410000</td>\n",
              "      <td>10512.500000</td>\n",
              "    </tr>\n",
              "    <tr>\n",
              "      <th>75%</th>\n",
              "      <td>72.320000</td>\n",
              "      <td>13.690000</td>\n",
              "      <td>9.455000</td>\n",
              "      <td>12082.500000</td>\n",
              "    </tr>\n",
              "    <tr>\n",
              "      <th>max</th>\n",
              "      <td>77.820000</td>\n",
              "      <td>17.810000</td>\n",
              "      <td>13.030000</td>\n",
              "      <td>24221.000000</td>\n",
              "    </tr>\n",
              "  </tbody>\n",
              "</table>\n",
              "</div>"
            ],
            "text/plain": [
              "              UHH         HLS        RRLS          PPKD\n",
              "count  514.000000  514.000000  514.000000    514.000000\n",
              "mean    69.929047   13.088385    8.552374  10643.322957\n",
              "std      3.408126    1.305754    1.620598   2752.811053\n",
              "min     55.700000    4.070000    1.580000   4190.000000\n",
              "25%     67.732500   12.500000    7.640000   8874.250000\n",
              "50%     70.225000   13.005000    8.410000  10512.500000\n",
              "75%     72.320000   13.690000    9.455000  12082.500000\n",
              "max     77.820000   17.810000   13.030000  24221.000000"
            ]
          },
          "execution_count": 3,
          "metadata": {},
          "output_type": "execute_result"
        }
      ],
      "source": [
        "dataset.describe()"
      ]
    },
    {
      "cell_type": "code",
      "execution_count": null,
      "id": "5ca5790c",
      "metadata": {
        "id": "5ca5790c",
        "outputId": "db75ec8e-2dd6-46f9-b843-eb9b5f207989"
      },
      "outputs": [
        {
          "name": "stdout",
          "output_type": "stream",
          "text": [
            "KMO All: [0.76431827 0.68475379 0.65185489 0.72590489]\n",
            "KMO Model: 0.6962901393953596\n"
          ]
        }
      ],
      "source": [
        "from factor_analyzer import FactorAnalyzer\n",
        "from factor_analyzer.factor_analyzer import calculate_kmo\n",
        "\n",
        "\n",
        "# Menghitung KMO\n",
        "kmo_all, kmo_model = calculate_kmo(dataset.iloc[:, 1:])\n",
        "\n",
        "print(f'KMO All: {kmo_all}')\n",
        "print(f'KMO Model: {kmo_model}')\n"
      ]
    },
    {
      "cell_type": "markdown",
      "id": "afa05b06",
      "metadata": {
        "id": "afa05b06"
      },
      "source": [
        "#### Uji Multikolinearitas"
      ]
    },
    {
      "cell_type": "code",
      "execution_count": null,
      "id": "ad26469c",
      "metadata": {
        "id": "ad26469c",
        "outputId": "5fcc76c9-ab3e-4d83-804c-08eeda2a6c7f"
      },
      "outputs": [
        {
          "name": "stdout",
          "output_type": "stream",
          "text": [
            "  Variable         VIF\n",
            "0      UHH  129.611541\n",
            "1      HLS  232.575948\n",
            "2     RRLS   95.318701\n",
            "3     PPKD   31.017028\n"
          ]
        }
      ],
      "source": [
        "from statsmodels.stats.outliers_influence import variance_inflation_factor\n",
        "from sklearn.datasets import load_boston\n",
        "\n",
        "# Fungsi untuk menghitung VIF\n",
        "def calculate_vif(data_frame):\n",
        "    vif_data = pd.DataFrame()\n",
        "    vif_data[\"Variable\"] = data_frame.columns\n",
        "    vif_data[\"VIF\"] = [variance_inflation_factor(data_frame.values, i) for i in range(data_frame.shape[1])]\n",
        "    return vif_data\n",
        "\n",
        "# Menghitung VIF untuk DataFrame yang dipilih\n",
        "vif_results = calculate_vif(dataset.iloc[:, 1:])\n",
        "\n",
        "# Menampilkan hasil VIF\n",
        "print(vif_results)"
      ]
    },
    {
      "cell_type": "markdown",
      "id": "f2663cc7",
      "metadata": {
        "id": "f2663cc7"
      },
      "source": [
        "#### Standarisasi data"
      ]
    },
    {
      "cell_type": "code",
      "execution_count": null,
      "id": "8ac13ac0",
      "metadata": {
        "id": "8ac13ac0"
      },
      "outputs": [],
      "source": [
        "import numpy as np\n",
        "from sklearn.preprocessing import MinMaxScaler\n",
        "\n",
        "# Membuat objek MinMaxScaler\n",
        "scaler =\n",
        "\n",
        "# Melakukan rescaling\n",
        "standarisasi = scaler.fit_transform(dataset.iloc[:, 1:])"
      ]
    },
    {
      "cell_type": "code",
      "execution_count": null,
      "id": "5bc81956",
      "metadata": {
        "id": "5bc81956",
        "outputId": "8193bbc6-b06b-4cb1-e528-05d6fad1d229"
      },
      "outputs": [
        {
          "data": {
            "text/plain": [
              "array([[0.44213382, 0.72852984, 0.71179039, 0.15880385],\n",
              "       [0.54023508, 0.74745269, 0.6209607 , 0.23982827],\n",
              "       [0.40415913, 0.77292576, 0.63842795, 0.20782787],\n",
              "       ...,\n",
              "       [0.4624774 , 0.26200873, 0.14672489, 0.07158904],\n",
              "       [0.45027125, 0.41994178, 0.14672489, 0.03085218],\n",
              "       [0.68083183, 0.79839884, 0.88733624, 0.5490989 ]])"
            ]
          },
          "execution_count": 7,
          "metadata": {},
          "output_type": "execute_result"
        }
      ],
      "source": [
        "standarisasi"
      ]
    },
    {
      "cell_type": "code",
      "execution_count": null,
      "id": "f3d48acd",
      "metadata": {
        "id": "f3d48acd",
        "outputId": "d95f50e3-5928-4fb0-e673-3a26ce9928cf"
      },
      "outputs": [
        {
          "data": {
            "text/html": [
              "<div>\n",
              "<style scoped>\n",
              "    .dataframe tbody tr th:only-of-type {\n",
              "        vertical-align: middle;\n",
              "    }\n",
              "\n",
              "    .dataframe tbody tr th {\n",
              "        vertical-align: top;\n",
              "    }\n",
              "\n",
              "    .dataframe thead th {\n",
              "        text-align: right;\n",
              "    }\n",
              "</style>\n",
              "<table border=\"1\" class=\"dataframe\">\n",
              "  <thead>\n",
              "    <tr style=\"text-align: right;\">\n",
              "      <th></th>\n",
              "      <th>UHH</th>\n",
              "      <th>HLS</th>\n",
              "      <th>RRLS</th>\n",
              "      <th>PPKD</th>\n",
              "    </tr>\n",
              "  </thead>\n",
              "  <tbody>\n",
              "    <tr>\n",
              "      <th>0</th>\n",
              "      <td>0.442134</td>\n",
              "      <td>0.728530</td>\n",
              "      <td>0.711790</td>\n",
              "      <td>0.158804</td>\n",
              "    </tr>\n",
              "    <tr>\n",
              "      <th>1</th>\n",
              "      <td>0.540235</td>\n",
              "      <td>0.747453</td>\n",
              "      <td>0.620961</td>\n",
              "      <td>0.239828</td>\n",
              "    </tr>\n",
              "    <tr>\n",
              "      <th>2</th>\n",
              "      <td>0.404159</td>\n",
              "      <td>0.772926</td>\n",
              "      <td>0.638428</td>\n",
              "      <td>0.207828</td>\n",
              "    </tr>\n",
              "    <tr>\n",
              "      <th>3</th>\n",
              "      <td>0.577758</td>\n",
              "      <td>0.741630</td>\n",
              "      <td>0.728384</td>\n",
              "      <td>0.201288</td>\n",
              "    </tr>\n",
              "    <tr>\n",
              "      <th>4</th>\n",
              "      <td>0.598553</td>\n",
              "      <td>0.654294</td>\n",
              "      <td>0.588646</td>\n",
              "      <td>0.246468</td>\n",
              "    </tr>\n",
              "  </tbody>\n",
              "</table>\n",
              "</div>"
            ],
            "text/plain": [
              "        UHH       HLS      RRLS      PPKD\n",
              "0  0.442134  0.728530  0.711790  0.158804\n",
              "1  0.540235  0.747453  0.620961  0.239828\n",
              "2  0.404159  0.772926  0.638428  0.207828\n",
              "3  0.577758  0.741630  0.728384  0.201288\n",
              "4  0.598553  0.654294  0.588646  0.246468"
            ]
          },
          "execution_count": 8,
          "metadata": {},
          "output_type": "execute_result"
        }
      ],
      "source": [
        "dataset_standarisasi  = pd.DataFrame({'UHH':standarisasi[:,0],'HLS':standarisasi[:,1],\n",
        "                            'RRLS':standarisasi[:,2],'PPKD':standarisasi[:,3],})\n",
        "dataset_standarisasi.head()"
      ]
    },
    {
      "cell_type": "code",
      "execution_count": null,
      "id": "26c24ec9",
      "metadata": {
        "id": "26c24ec9"
      },
      "outputs": [],
      "source": [
        "# Import library\n",
        "from numpy import unique\n",
        "from numpy import where #pelabelan untuk hasil clustering\n",
        "from sklearn.datasets import make_classification\n",
        "from sklearn.cluster import KMeans #untuk pemodelan clustering\n",
        "from matplotlib import pyplot"
      ]
    },
    {
      "cell_type": "code",
      "execution_count": null,
      "id": "a983c9ef",
      "metadata": {
        "id": "a983c9ef",
        "outputId": "810b2c8b-b756-4cf7-d5ff-42914d4d79f0"
      },
      "outputs": [
        {
          "data": {
            "text/plain": [
              "(514, 4)"
            ]
          },
          "execution_count": 10,
          "metadata": {},
          "output_type": "execute_result"
        }
      ],
      "source": [
        "dataset_standarisasi.shape"
      ]
    },
    {
      "cell_type": "code",
      "execution_count": null,
      "id": "ec911756",
      "metadata": {
        "id": "ec911756",
        "outputId": "2fc222ef-1dd6-4410-a492-1e6df84fbc92"
      },
      "outputs": [
        {
          "data": {
            "text/plain": [
              "UHH     0\n",
              "HLS     0\n",
              "RRLS    0\n",
              "PPKD    0\n",
              "dtype: int64"
            ]
          },
          "execution_count": 11,
          "metadata": {},
          "output_type": "execute_result"
        }
      ],
      "source": [
        "dataset_standarisasi.isnull().sum()"
      ]
    },
    {
      "cell_type": "code",
      "execution_count": null,
      "id": "aa02ce07",
      "metadata": {
        "id": "aa02ce07"
      },
      "outputs": [],
      "source": [
        "wcss = [] #wcss -> within cluster sum of squares\n",
        "for i in range (1,15):\n",
        "    kmeans = KMeans(n_clusters = i, random_state = 14)\n",
        "    kmeans.fit(dataset_standarisasi)\n",
        "    wcss.append(kmeans.inertia_)"
      ]
    },
    {
      "cell_type": "code",
      "execution_count": null,
      "id": "c0de042b",
      "metadata": {
        "id": "c0de042b"
      },
      "outputs": [],
      "source": [
        "import pandas as pd\n",
        "import numpy as np\n",
        "import matplotlib.pyplot as plt\n",
        "import seaborn as sns"
      ]
    },
    {
      "cell_type": "code",
      "execution_count": null,
      "id": "be6447f8",
      "metadata": {
        "id": "be6447f8",
        "outputId": "9a7b4450-19b3-470d-9591-352ace6ebad5"
      },
      "outputs": [
        {
          "data": {
            "image/png": "[encoded data removed]",
            "text/plain": [
              "<Figure size 640x480 with 1 Axes>"
            ]
          },
          "metadata": {},
          "output_type": "display_data"
        }
      ],
      "source": [
        "# Visualisasi Metode Elbow\n",
        "plt.plot(range(1,15), wcss)\n",
        "plt.title(\"The Elbow Method\")\n",
        "plt.xlabel(\"Number of Cluster\")\n",
        "plt.ylabel(\"WCSS\")\n",
        "plt.show()"
      ]
    },
    {
      "cell_type": "code",
      "execution_count": null,
      "id": "4077c6b6",
      "metadata": {
        "id": "4077c6b6",
        "outputId": "a4d017c6-aad4-4162-9e08-2c9c24d75451"
      },
      "outputs": [
        {
          "data": {
            "text/plain": [
              "KMeans(n_clusters=4, random_state=14)"
            ]
          },
          "execution_count": 17,
          "metadata": {},
          "output_type": "execute_result"
        }
      ],
      "source": [
        "kmeans = KMeans(n_clusters = 4, random_state = 14)\n",
        "kmeans.fit(dataset_standarisasi)"
      ]
    },
    {
      "cell_type": "code",
      "execution_count": null,
      "id": "57a14211",
      "metadata": {
        "id": "57a14211",
        "outputId": "21148334-fe71-446a-874f-bad088cf38fc"
      },
      "outputs": [
        {
          "data": {
            "text/plain": [
              "array([1, 1, 1, 1, 1, 2, 1, 2, 1, 2, 1, 1, 1, 2, 1, 1, 2, 2, 0, 0, 0, 0,\n",
              "       1, 1, 1, 1, 1, 2, 0, 2, 2, 2, 2, 0, 0, 2, 1, 2, 1, 2, 2, 1, 1, 1,\n",
              "       2, 2, 1, 1, 0, 1, 0, 0, 0, 0, 0, 2, 1, 2, 2, 1, 2, 2, 2, 2, 1, 1,\n",
              "       2, 1, 0, 0, 2, 0, 0, 0, 0, 2, 2, 1, 2, 2, 2, 2, 2, 2, 1, 0, 0, 2,\n",
              "       2, 2, 2, 2, 1, 1, 2, 1, 0, 0, 1, 2, 2, 1, 1, 2, 2, 1, 2, 1, 1, 1,\n",
              "       1, 0, 0, 1, 0, 1, 2, 1, 1, 1, 1, 1, 1, 1, 0, 1, 1, 2, 2, 2, 2, 2,\n",
              "       2, 1, 2, 1, 2, 1, 0, 0, 2, 2, 2, 2, 2, 2, 0, 2, 2, 1, 1, 1, 0, 0,\n",
              "       2, 0, 0, 0, 0, 0, 2, 2, 2, 2, 2, 2, 2, 2, 2, 2, 2, 2, 2, 2, 2, 2,\n",
              "       2, 2, 0, 2, 0, 0, 0, 0, 0, 2, 2, 2, 2, 2, 2, 2, 2, 2, 2, 2, 0, 0,\n",
              "       2, 2, 2, 2, 2, 2, 2, 2, 2, 2, 2, 2, 2, 2, 2, 2, 2, 2, 0, 0, 0, 0,\n",
              "       2, 2, 2, 0, 2, 0, 0, 2, 2, 2, 2, 2, 2, 2, 2, 2, 2, 1, 2, 1, 2, 0,\n",
              "       2, 2, 2, 2, 2, 2, 2, 2, 2, 0, 2, 1, 1, 2, 0, 0, 0, 2, 0, 0, 0, 0,\n",
              "       0, 1, 1, 2, 1, 0, 1, 2, 0, 2, 0, 0, 0, 2, 2, 2, 2, 0, 1, 1, 1, 1,\n",
              "       1, 1, 2, 1, 0, 0, 1, 1, 1, 1, 1, 1, 1, 1, 1, 1, 1, 1, 1, 1, 1, 1,\n",
              "       1, 1, 1, 1, 1, 0, 2, 2, 2, 2, 2, 2, 2, 2, 2, 2, 1, 2, 0, 2, 2, 2,\n",
              "       2, 1, 2, 2, 2, 2, 1, 1, 2, 2, 2, 0, 2, 2, 1, 1, 2, 1, 1, 1, 2, 2,\n",
              "       1, 0, 0, 2, 2, 2, 2, 0, 2, 2, 0, 0, 0, 2, 2, 2, 2, 0, 2, 0, 2, 2,\n",
              "       2, 2, 1, 2, 2, 1, 1, 0, 2, 0, 2, 1, 2, 2, 2, 1, 1, 1, 1, 1, 2, 1,\n",
              "       2, 0, 1, 1, 2, 1, 1, 2, 1, 2, 1, 2, 1, 2, 1, 2, 2, 2, 2, 2, 2, 2,\n",
              "       2, 0, 0, 0, 1, 2, 2, 2, 2, 1, 2, 2, 2, 2, 2, 1, 2, 1, 1, 0, 0, 2,\n",
              "       1, 1, 2, 1, 0, 1, 1, 2, 1, 1, 1, 1, 1, 1, 1, 1, 1, 1, 1, 1, 0, 1,\n",
              "       1, 1, 1, 1, 1, 1, 1, 1, 0, 2, 1, 1, 1, 1, 2, 1, 1, 1, 3, 1, 1, 3,\n",
              "       0, 1, 1, 1, 1, 1, 1, 3, 3, 2, 1, 1, 3, 3, 3, 3, 1, 1, 1, 1, 3, 3,\n",
              "       3, 3, 3, 3, 3, 3, 3, 0], dtype=int32)"
            ]
          },
          "execution_count": 18,
          "metadata": {},
          "output_type": "execute_result"
        }
      ],
      "source": [
        "kmeans.labels_"
      ]
    },
    {
      "cell_type": "code",
      "execution_count": null,
      "id": "bbcc1bf7",
      "metadata": {
        "id": "bbcc1bf7",
        "outputId": "0cbaf038-4b2a-41e4-c315-4f20d0dbd3a5"
      },
      "outputs": [
        {
          "data": {
            "text/plain": [
              "array([1, 1, 1, 1, 1, 2, 1, 2, 1, 2, 1, 1, 1, 2, 1, 1, 2, 2, 0, 0, 0, 0,\n",
              "       1, 1, 1, 1, 1, 2, 0, 2, 2, 2, 2, 0, 0, 2, 1, 2, 1, 2, 2, 1, 1, 1,\n",
              "       2, 2, 1, 1, 0, 1, 0, 0, 0, 0, 0, 2, 1, 2, 2, 1, 2, 2, 2, 2, 1, 1,\n",
              "       2, 1, 0, 0, 2, 0, 0, 0, 0, 2, 2, 1, 2, 2, 2, 2, 2, 2, 1, 0, 0, 2,\n",
              "       2, 2, 2, 2, 1, 1, 2, 1, 0, 0, 1, 2, 2, 1, 1, 2, 2, 1, 2, 1, 1, 1,\n",
              "       1, 0, 0, 1, 0, 1, 2, 1, 1, 1, 1, 1, 1, 1, 0, 1, 1, 2, 2, 2, 2, 2,\n",
              "       2, 1, 2, 1, 2, 1, 0, 0, 2, 2, 2, 2, 2, 2, 0, 2, 2, 1, 1, 1, 0, 0,\n",
              "       2, 0, 0, 0, 0, 0, 2, 2, 2, 2, 2, 2, 2, 2, 2, 2, 2, 2, 2, 2, 2, 2,\n",
              "       2, 2, 0, 2, 0, 0, 0, 0, 0, 2, 2, 2, 2, 2, 2, 2, 2, 2, 2, 2, 0, 0,\n",
              "       2, 2, 2, 2, 2, 2, 2, 2, 2, 2, 2, 2, 2, 2, 2, 2, 2, 2, 0, 0, 0, 0,\n",
              "       2, 2, 2, 0, 2, 0, 0, 2, 2, 2, 2, 2, 2, 2, 2, 2, 2, 1, 2, 1, 2, 0,\n",
              "       2, 2, 2, 2, 2, 2, 2, 2, 2, 0, 2, 1, 1, 2, 0, 0, 0, 2, 0, 0, 0, 0,\n",
              "       0, 1, 1, 2, 1, 0, 1, 2, 0, 2, 0, 0, 0, 2, 2, 2, 2, 0, 1, 1, 1, 1,\n",
              "       1, 1, 2, 1, 0, 0, 1, 1, 1, 1, 1, 1, 1, 1, 1, 1, 1, 1, 1, 1, 1, 1,\n",
              "       1, 1, 1, 1, 1, 0, 2, 2, 2, 2, 2, 2, 2, 2, 2, 2, 1, 2, 0, 2, 2, 2,\n",
              "       2, 1, 2, 2, 2, 2, 1, 1, 2, 2, 2, 0, 2, 2, 1, 1, 2, 1, 1, 1, 2, 2,\n",
              "       1, 0, 0, 2, 2, 2, 2, 0, 2, 2, 0, 0, 0, 2, 2, 2, 2, 0, 2, 0, 2, 2,\n",
              "       2, 2, 1, 2, 2, 1, 1, 0, 2, 0, 2, 1, 2, 2, 2, 1, 1, 1, 1, 1, 2, 1,\n",
              "       2, 0, 1, 1, 2, 1, 1, 2, 1, 2, 1, 2, 1, 2, 1, 2, 2, 2, 2, 2, 2, 2,\n",
              "       2, 0, 0, 0, 1, 2, 2, 2, 2, 1, 2, 2, 2, 2, 2, 1, 2, 1, 1, 0, 0, 2,\n",
              "       1, 1, 2, 1, 0, 1, 1, 2, 1, 1, 1, 1, 1, 1, 1, 1, 1, 1, 1, 1, 0, 1,\n",
              "       1, 1, 1, 1, 1, 1, 1, 1, 0, 2, 1, 1, 1, 1, 2, 1, 1, 1, 3, 1, 1, 3,\n",
              "       0, 1, 1, 1, 1, 1, 1, 3, 3, 2, 1, 1, 3, 3, 3, 3, 1, 1, 1, 1, 3, 3,\n",
              "       3, 3, 3, 3, 3, 3, 3, 0], dtype=int32)"
            ]
          },
          "execution_count": 19,
          "metadata": {},
          "output_type": "execute_result"
        }
      ],
      "source": [
        "y_pred = kmeans.fit_predict(dataset_standarisasi)\n",
        "y_pred"
      ]
    },
    {
      "cell_type": "code",
      "execution_count": null,
      "id": "b35bea30",
      "metadata": {
        "id": "b35bea30",
        "outputId": "9f304dd1-dedc-41da-80ee-30f0f21dac26"
      },
      "outputs": [
        {
          "data": {
            "text/html": [
              "<div>\n",
              "<style scoped>\n",
              "    .dataframe tbody tr th:only-of-type {\n",
              "        vertical-align: middle;\n",
              "    }\n",
              "\n",
              "    .dataframe tbody tr th {\n",
              "        vertical-align: top;\n",
              "    }\n",
              "\n",
              "    .dataframe thead th {\n",
              "        text-align: right;\n",
              "    }\n",
              "</style>\n",
              "<table border=\"1\" class=\"dataframe\">\n",
              "  <thead>\n",
              "    <tr style=\"text-align: right;\">\n",
              "      <th></th>\n",
              "      <th>UHH</th>\n",
              "      <th>HLS</th>\n",
              "      <th>RRLS</th>\n",
              "      <th>PPKD</th>\n",
              "      <th>Cluster</th>\n",
              "    </tr>\n",
              "  </thead>\n",
              "  <tbody>\n",
              "    <tr>\n",
              "      <th>0</th>\n",
              "      <td>0.442134</td>\n",
              "      <td>0.728530</td>\n",
              "      <td>0.711790</td>\n",
              "      <td>0.158804</td>\n",
              "      <td>1</td>\n",
              "    </tr>\n",
              "    <tr>\n",
              "      <th>1</th>\n",
              "      <td>0.540235</td>\n",
              "      <td>0.747453</td>\n",
              "      <td>0.620961</td>\n",
              "      <td>0.239828</td>\n",
              "      <td>1</td>\n",
              "    </tr>\n",
              "    <tr>\n",
              "      <th>2</th>\n",
              "      <td>0.404159</td>\n",
              "      <td>0.772926</td>\n",
              "      <td>0.638428</td>\n",
              "      <td>0.207828</td>\n",
              "      <td>1</td>\n",
              "    </tr>\n",
              "    <tr>\n",
              "      <th>3</th>\n",
              "      <td>0.577758</td>\n",
              "      <td>0.741630</td>\n",
              "      <td>0.728384</td>\n",
              "      <td>0.201288</td>\n",
              "      <td>1</td>\n",
              "    </tr>\n",
              "    <tr>\n",
              "      <th>4</th>\n",
              "      <td>0.598553</td>\n",
              "      <td>0.654294</td>\n",
              "      <td>0.588646</td>\n",
              "      <td>0.246468</td>\n",
              "      <td>1</td>\n",
              "    </tr>\n",
              "  </tbody>\n",
              "</table>\n",
              "</div>"
            ],
            "text/plain": [
              "        UHH       HLS      RRLS      PPKD  Cluster\n",
              "0  0.442134  0.728530  0.711790  0.158804        1\n",
              "1  0.540235  0.747453  0.620961  0.239828        1\n",
              "2  0.404159  0.772926  0.638428  0.207828        1\n",
              "3  0.577758  0.741630  0.728384  0.201288        1\n",
              "4  0.598553  0.654294  0.588646  0.246468        1"
            ]
          },
          "execution_count": 20,
          "metadata": {},
          "output_type": "execute_result"
        }
      ],
      "source": [
        "hasil_kmeans = dataset_standarisasi.copy()\n",
        "hasil_kmeans[\"Cluster\"]=kmeans.labels_\n",
        "hasil_kmeans.head()"
      ]
    },
    {
      "cell_type": "code",
      "execution_count": null,
      "id": "37e3b2e3",
      "metadata": {
        "id": "37e3b2e3",
        "outputId": "718472fb-6ffa-4dec-ad6a-c66f7d7381a9"
      },
      "outputs": [
        {
          "data": {
            "text/plain": [
              "Int64Index([2, 1, 0, 3], dtype='int64')"
            ]
          },
          "execution_count": 21,
          "metadata": {},
          "output_type": "execute_result"
        }
      ],
      "source": [
        "cluster_x = hasil_kmeans[\"Cluster\"].value_counts().index\n",
        "cluster_x"
      ]
    },
    {
      "cell_type": "code",
      "execution_count": null,
      "id": "6e3dbb7e",
      "metadata": {
        "id": "6e3dbb7e",
        "outputId": "b9080bbc-6678-409b-989d-0a3d5d2ae5a2"
      },
      "outputs": [
        {
          "data": {
            "text/plain": [
              "array([227, 176,  94,  17])"
            ]
          },
          "execution_count": 22,
          "metadata": {},
          "output_type": "execute_result"
        }
      ],
      "source": [
        "cluster_y = hasil_kmeans[\"Cluster\"].value_counts().values\n",
        "cluster_y"
      ]
    },
    {
      "cell_type": "code",
      "execution_count": null,
      "id": "237a8d3a",
      "metadata": {
        "id": "237a8d3a",
        "outputId": "479abbbc-a0c4-410b-d107-068ddf584b05"
      },
      "outputs": [
        {
          "data": {
            "image/png": "[encoded data removed]",
            "text/plain": [
              "<Figure size 640x480 with 1 Axes>"
            ]
          },
          "metadata": {},
          "output_type": "display_data"
        }
      ],
      "source": [
        "#Visualisasi\n",
        "sns.barplot(x = cluster_x, y = cluster_y)\n",
        "plt.title(\"Frekuensi Data pada Masing-Masing Cluster (KMeans)\")\n",
        "plt.xlabel(\"Cluster\")\n",
        "plt.ylabel(\"Frekuensi\")\n",
        "plt.show()"
      ]
    },
    {
      "cell_type": "code",
      "execution_count": null,
      "id": "b053d547",
      "metadata": {
        "id": "b053d547"
      },
      "outputs": [],
      "source": [
        "ann_kmeans0 = hasil_kmeans[hasil_kmeans[\"Cluster\"] == 0].iloc[:,0]\n",
        "spend_kmeans0 = hasil_kmeans[hasil_kmeans[\"Cluster\"] == 0].iloc[:,1]\n",
        "\n",
        "ann_kmeans1 = hasil_kmeans[hasil_kmeans[\"Cluster\"] == 1].iloc[:,0]\n",
        "spend_kmeans1 = hasil_kmeans[hasil_kmeans[\"Cluster\"] == 1].iloc[:,1]\n",
        "\n",
        "ann_kmeans2 = hasil_kmeans[hasil_kmeans[\"Cluster\"] == 2].iloc[:,0]\n",
        "spend_kmeans2 = hasil_kmeans[hasil_kmeans[\"Cluster\"] == 2].iloc[:,1]\n",
        "\n",
        "ann_kmeans3 = hasil_kmeans[hasil_kmeans[\"Cluster\"] == 3].iloc[:,0]\n",
        "spend_kmeans3 = hasil_kmeans[hasil_kmeans[\"Cluster\"] == 3].iloc[:,1]\n",
        "\n",
        "ann_kmeans4 = hasil_kmeans[hasil_kmeans[\"Cluster\"] == 4].iloc[:,0]\n",
        "spend_kmeans4 = hasil_kmeans[hasil_kmeans[\"Cluster\"] == 4].iloc[:,1]"
      ]
    },
    {
      "cell_type": "code",
      "execution_count": null,
      "id": "b661621e",
      "metadata": {
        "id": "b661621e",
        "outputId": "95344b0c-0c7b-4564-d06c-2b3d1099c96a"
      },
      "outputs": [
        {
          "data": {
            "text/plain": [
              "array([[0.78675311, 0.76186162, 0.81276596, 0.51520462],\n",
              "       [0.49813003, 0.64931934, 0.56972509, 0.24222086],\n",
              "       [0.71589687, 0.64063893, 0.58474117, 0.3245155 ],\n",
              "       [0.38261887, 0.35580957, 0.21104547, 0.05109433]])"
            ]
          },
          "execution_count": 25,
          "metadata": {},
          "output_type": "execute_result"
        }
      ],
      "source": [
        "# Pusat dari cluster (centroid)\n",
        "centroid_cluster = kmeans.cluster_centers_\n",
        "centroid_cluster"
      ]
    },
    {
      "cell_type": "code",
      "execution_count": null,
      "id": "68925fd3",
      "metadata": {
        "id": "68925fd3",
        "outputId": "ef80b594-d808-4491-a090-140533c699e2"
      },
      "outputs": [
        {
          "data": {
            "image/png": "[encoded data removed]",
            "text/plain": [
              "<Figure size 640x480 with 1 Axes>"
            ]
          },
          "metadata": {},
          "output_type": "display_data"
        }
      ],
      "source": [
        "# Visualisasi hasil Clustering\n",
        "plt.scatter(ann_kmeans0, spend_kmeans0, s = 80, c = \"blue\", label = \"Cluster 1\")\n",
        "plt.scatter(ann_kmeans1, spend_kmeans1, s = 80, c = \"orange\", label = \"Cluster 2\")\n",
        "plt.scatter(ann_kmeans2, spend_kmeans2, s = 80, c = \"green\", label = \"Cluster 3\")\n",
        "plt.scatter(ann_kmeans3, spend_kmeans3, s = 80, c = \"red\", label = \"Cluster 4\")\n",
        "plt.scatter(ann_kmeans4, spend_kmeans4, s = 80, c = \"magenta\", label = \"Cluster 5\")\n",
        "\n",
        "# Centroid\n",
        "plt.scatter(centroid_cluster[:,0], centroid_cluster[:,1], s = 160, c = \"black\",\n",
        "           label = \"Centroid\")\n",
        "plt.title(\"Clusters of Customers\")\n",
        "plt.xlabel(\"Annual Income (k$)\")\n",
        "plt.ylabel(\"Spending Score (1-100)\")\n",
        "plt.legend()\n",
        "plt.show()"
      ]
    },
    {
      "cell_type": "code",
      "execution_count": null,
      "id": "08c68e6b",
      "metadata": {
        "id": "08c68e6b",
        "outputId": "f1ce8e0e-6672-4aed-e1f3-4a93789d2c00"
      },
      "outputs": [
        {
          "data": {
            "text/html": [
              "<div>\n",
              "<style scoped>\n",
              "    .dataframe tbody tr th:only-of-type {\n",
              "        vertical-align: middle;\n",
              "    }\n",
              "\n",
              "    .dataframe tbody tr th {\n",
              "        vertical-align: top;\n",
              "    }\n",
              "\n",
              "    .dataframe thead th {\n",
              "        text-align: right;\n",
              "    }\n",
              "</style>\n",
              "<table border=\"1\" class=\"dataframe\">\n",
              "  <thead>\n",
              "    <tr style=\"text-align: right;\">\n",
              "      <th></th>\n",
              "      <th>Kabupaten/Kota</th>\n",
              "      <th>UHH</th>\n",
              "      <th>HLS</th>\n",
              "      <th>RRLS</th>\n",
              "      <th>PPKD</th>\n",
              "      <th>cluster</th>\n",
              "    </tr>\n",
              "  </thead>\n",
              "  <tbody>\n",
              "    <tr>\n",
              "      <th>0</th>\n",
              "      <td>Simeulue</td>\n",
              "      <td>65.48</td>\n",
              "      <td>14.08</td>\n",
              "      <td>9.73</td>\n",
              "      <td>7371</td>\n",
              "      <td>1</td>\n",
              "    </tr>\n",
              "    <tr>\n",
              "      <th>1</th>\n",
              "      <td>Aceh Singkil</td>\n",
              "      <td>67.65</td>\n",
              "      <td>14.34</td>\n",
              "      <td>8.69</td>\n",
              "      <td>8994</td>\n",
              "      <td>1</td>\n",
              "    </tr>\n",
              "    <tr>\n",
              "      <th>2</th>\n",
              "      <td>Aceh Selatan</td>\n",
              "      <td>64.64</td>\n",
              "      <td>14.69</td>\n",
              "      <td>8.89</td>\n",
              "      <td>8353</td>\n",
              "      <td>1</td>\n",
              "    </tr>\n",
              "    <tr>\n",
              "      <th>3</th>\n",
              "      <td>Aceh Tenggara</td>\n",
              "      <td>68.48</td>\n",
              "      <td>14.26</td>\n",
              "      <td>9.92</td>\n",
              "      <td>8222</td>\n",
              "      <td>1</td>\n",
              "    </tr>\n",
              "    <tr>\n",
              "      <th>4</th>\n",
              "      <td>Aceh Timur</td>\n",
              "      <td>68.94</td>\n",
              "      <td>13.06</td>\n",
              "      <td>8.32</td>\n",
              "      <td>9127</td>\n",
              "      <td>1</td>\n",
              "    </tr>\n",
              "  </tbody>\n",
              "</table>\n",
              "</div>"
            ],
            "text/plain": [
              "  Kabupaten/Kota    UHH    HLS  RRLS  PPKD  cluster\n",
              "0       Simeulue  65.48  14.08  9.73  7371        1\n",
              "1   Aceh Singkil  67.65  14.34  8.69  8994        1\n",
              "2   Aceh Selatan  64.64  14.69  8.89  8353        1\n",
              "3  Aceh Tenggara  68.48  14.26  9.92  8222        1\n",
              "4     Aceh Timur  68.94  13.06  8.32  9127        1"
            ]
          },
          "execution_count": 27,
          "metadata": {},
          "output_type": "execute_result"
        }
      ],
      "source": [
        "dataset[\"cluster\"] = kmeans.labels_\n",
        "dataset.head()"
      ]
    },
    {
      "cell_type": "code",
      "execution_count": null,
      "id": "c7fe595a",
      "metadata": {
        "id": "c7fe595a"
      },
      "outputs": [],
      "source": [
        "# Jika ingin menyimpan dataframe \"dataset\" ke dalam format file excel\n",
        "dataset.to_excel(\"CLustering_K-Means.xlsx\", sheet_name = \"K-Means\", index = False)"
      ]
    }
  ],
  "metadata": {
    "kernelspec": {
      "display_name": "Python 3 (ipykernel)",
      "language": "python",
      "name": "python3"
    },
    "language_info": {
      "codemirror_mode": {
        "name": "ipython",
        "version": 3
      },
      "file_extension": ".py",
      "mimetype": "text/x-python",
      "name": "python",
      "nbconvert_exporter": "python",
      "pygments_lexer": "ipython3",
      "version": "3.9.13"
    },
    "colab": {
      "provenance": []
    }
  },
  "nbformat": 4,
  "nbformat_minor": 5
}